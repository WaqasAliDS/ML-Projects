{
 "cells": [
  {
   "cell_type": "markdown",
   "id": "9e55923f",
   "metadata": {},
   "source": [
    "# **Space X  Falcon 9 First Stage Landing Prediction**\n"
   ]
  },
  {
   "cell_type": "markdown",
   "id": "30ffde2f",
   "metadata": {},
   "source": [
    "## Overview of the DataSet\n",
    "\n",
    "SpaceX has gained worldwide attention for a series of historic milestones. \n",
    "\n",
    "It is the only private company ever to return a spacecraft from low-earth orbit, which it first accomplished in December 2010.\n",
    "SpaceX advertises Falcon 9 rocket launches on its website with a cost of 62 million dollars wheras other providers cost upward of 165 million dollars each, much of the savings is because Space X can reuse the first stage. \n",
    "\n",
    "\n",
    "Therefore if we can determine if the first stage will land, we can determine the cost of a launch. \n",
    "\n",
    "This information can be used if an alternate company wants to bid against SpaceX for a rocket launch.\n",
    "\n",
    "This dataset includes a record for each payload carried during a SpaceX mission into outer space.\n"
   ]
  },
  {
   "cell_type": "markdown",
   "id": "71fa49cb",
   "metadata": {},
   "source": [
    "## Web scraping Falcon 9 and Falcon Heavy Launches Records from Wikipedia\n"
   ]
  },
  {
   "cell_type": "markdown",
   "id": "bea0383f",
   "metadata": {},
   "source": [
    "In this part, we will be performing web scraping to collect Falcon 9 historical launch records from a Wikipedia page titled `List of Falcon 9 and Falcon Heavy launches`\n",
    "\n",
    "https://en.wikipedia.org/wiki/List_of_Falcon_9_and_Falcon_Heavy_launches\n"
   ]
  },
  {
   "cell_type": "markdown",
   "id": "af10d708",
   "metadata": {},
   "source": [
    "![](https://cf-courses-data.s3.us.cloud-object-storage.appdomain.cloud/IBM-DS0321EN-SkillsNetwork/labs/module_1_L2/images/Falcon9_rocket_family.svg)\n"
   ]
  },
  {
   "cell_type": "markdown",
   "id": "d18a7efb",
   "metadata": {},
   "source": [
    " ## Objectives\n",
    "Web scrap Falcon 9 launch records with `BeautifulSoup`: \n",
    "- Extract a Falcon 9 launch records HTML table from Wikipedia\n",
    "- Parse the table and convert it into a Pandas data frame\n"
   ]
  },
  {
   "cell_type": "code",
   "execution_count": 1,
   "id": "30208f59",
   "metadata": {},
   "outputs": [],
   "source": [
    "import sys\n",
    "import requests\n",
    "from bs4 import BeautifulSoup\n",
    "import re\n",
    "import unicodedata\n",
    "import pandas as pd\n",
    "import csv, sqlite3"
   ]
  },
  {
   "cell_type": "code",
   "execution_count": 2,
   "id": "580ba29a",
   "metadata": {},
   "outputs": [],
   "source": [
    "static_url = \"https://en.wikipedia.org/w/index.php?title=List_of_Falcon_9_and_Falcon_Heavy_launches&oldid=1027686922\""
   ]
  },
  {
   "cell_type": "markdown",
   "id": "b4110614",
   "metadata": {},
   "source": [
    "Next, request the HTML page from the above URL and get a `response` object."
   ]
  },
  {
   "cell_type": "code",
   "execution_count": 3,
   "id": "c4be2fca",
   "metadata": {},
   "outputs": [
    {
     "name": "stdout",
     "output_type": "stream",
     "text": [
      "Request Successfull\n"
     ]
    }
   ],
   "source": [
    "response = requests.get(static_url)\n",
    "html_content = response.text\n",
    "\n",
    "if response.status_code == 200:\n",
    "    print('Request Successfull')\n",
    "else:\n",
    "    print('Request Unsuccessfull')"
   ]
  },
  {
   "cell_type": "markdown",
   "id": "553f0727",
   "metadata": {},
   "source": [
    "Create a `BeautifulSoup` object from the HTML `response`"
   ]
  },
  {
   "cell_type": "code",
   "execution_count": 4,
   "id": "748787e2",
   "metadata": {},
   "outputs": [],
   "source": [
    "soup = BeautifulSoup(html_content,'html.parser')"
   ]
  },
  {
   "cell_type": "markdown",
   "id": "b338ea10",
   "metadata": {},
   "source": [
    "Print the page title to verify if the `BeautifulSoup` object was created properly "
   ]
  },
  {
   "cell_type": "code",
   "execution_count": 5,
   "id": "1480e3bd",
   "metadata": {},
   "outputs": [
    {
     "data": {
      "text/plain": [
       "<title>List of Falcon 9 and Falcon Heavy launches - Wikipedia</title>"
      ]
     },
     "execution_count": 5,
     "metadata": {},
     "output_type": "execute_result"
    }
   ],
   "source": [
    "page_title = soup.title\n",
    "page_title"
   ]
  },
  {
   "cell_type": "markdown",
   "id": "4605f2f0",
   "metadata": {},
   "source": [
    "Next, we want to collect all relevant column names from the HTML table header.\n",
    "\n",
    "First, Let's try to find all tables on the wiki page first."
   ]
  },
  {
   "cell_type": "code",
   "execution_count": 6,
   "id": "20ff24ec",
   "metadata": {},
   "outputs": [
    {
     "data": {
      "text/plain": [
       "25"
      ]
     },
     "execution_count": 6,
     "metadata": {},
     "output_type": "execute_result"
    }
   ],
   "source": [
    "html_tables = soup.find_all('table')\n",
    "len(html_tables)"
   ]
  },
  {
   "cell_type": "markdown",
   "id": "34953381",
   "metadata": {},
   "source": [
    "As per research third table contains our desired record so we will collect it."
   ]
  },
  {
   "cell_type": "code",
   "execution_count": 7,
   "id": "f4a28f46",
   "metadata": {},
   "outputs": [],
   "source": [
    "first_launch_table = html_tables[2]\n",
    "#print(first_launch_table)"
   ]
  },
  {
   "cell_type": "markdown",
   "id": "6907161a",
   "metadata": {},
   "source": [
    "Next, we just need to iterate through the <th> elements and apply the provided extract_column_from_header() to extract column name one by one.\n",
    "But before that, below are the required helper functions to process web scraped HTML table. Each function has a doc string which contains it's functionality."
   ]
  },
  {
   "cell_type": "code",
   "execution_count": 8,
   "id": "ebca5bf8",
   "metadata": {},
   "outputs": [],
   "source": [
    "def date_time(table_cells):\n",
    "    \"\"\"\n",
    "    This function returns the data and time from the HTML  table cell\n",
    "    Input: the  element of a table data cell extracts extra row\n",
    "    \"\"\"\n",
    "    return [data_time.strip() for data_time in list(table_cells.strings)][0:2]\n",
    "\n",
    "def booster_version(table_cells):\n",
    "    \"\"\"\n",
    "    This function returns the booster version from the HTML  table cell \n",
    "    Input: the  element of a table data cell extracts extra row\n",
    "    \"\"\"\n",
    "    out=''.join([booster_version for i,booster_version in enumerate( table_cells.strings) if i%2==0][0:-1])\n",
    "    return out\n",
    "\n",
    "def landing_status(table_cells):\n",
    "    \"\"\"\n",
    "    This function returns the landing status from the HTML table cell \n",
    "    Input: the  element of a table data cell extracts extra row\n",
    "    \"\"\"\n",
    "    out=[i for i in table_cells.strings][0]\n",
    "    return out\n",
    "\n",
    "\n",
    "def get_mass(table_cells):\n",
    "    mass=unicodedata.normalize(\"NFKD\", table_cells.text).strip()\n",
    "    if mass:\n",
    "        mass.find(\"kg\")\n",
    "        new_mass=mass[0:mass.find(\"kg\")+2]\n",
    "    else:\n",
    "        new_mass=0\n",
    "    return new_mass\n",
    "\n",
    "\n",
    "def extract_column_from_header(row):\n",
    "    \"\"\"\n",
    "    This function returns the landing status from the HTML table cell \n",
    "    Input: the  element of a table data cell extracts extra row\n",
    "    \"\"\"\n",
    "    if (row.br):\n",
    "        row.br.extract()\n",
    "    if row.a:\n",
    "        row.a.extract()\n",
    "    if row.sup:\n",
    "        row.sup.extract()\n",
    "        \n",
    "    colunm_name = ' '.join(row.contents)\n",
    "    \n",
    "    # Filter the digit and empty names\n",
    "    if not(colunm_name.strip().isdigit()):\n",
    "        colunm_name = colunm_name.strip()\n",
    "        return colunm_name    \n"
   ]
  },
  {
   "cell_type": "code",
   "execution_count": 9,
   "id": "ba86e89d",
   "metadata": {},
   "outputs": [
    {
     "data": {
      "text/plain": [
       "[<th scope=\"col\">Flight No.\n",
       " </th>,\n",
       " <th scope=\"col\">Date and<br/>time (<a href=\"/wiki/Coordinated_Universal_Time\" title=\"Coordinated Universal Time\">UTC</a>)\n",
       " </th>,\n",
       " <th scope=\"col\"><a href=\"/wiki/List_of_Falcon_9_first-stage_boosters\" title=\"List of Falcon 9 first-stage boosters\">Version,<br/>Booster</a> <sup class=\"reference\" id=\"cite_ref-booster_11-0\"><a href=\"#cite_note-booster-11\">[b]</a></sup>\n",
       " </th>,\n",
       " <th scope=\"col\">Launch site\n",
       " </th>,\n",
       " <th scope=\"col\">Payload<sup class=\"reference\" id=\"cite_ref-Dragon_12-0\"><a href=\"#cite_note-Dragon-12\">[c]</a></sup>\n",
       " </th>,\n",
       " <th scope=\"col\">Payload mass\n",
       " </th>,\n",
       " <th scope=\"col\">Orbit\n",
       " </th>,\n",
       " <th scope=\"col\">Customer\n",
       " </th>,\n",
       " <th scope=\"col\">Launch<br/>outcome\n",
       " </th>,\n",
       " <th scope=\"col\"><a href=\"/wiki/Falcon_9_first-stage_landing_tests\" title=\"Falcon 9 first-stage landing tests\">Booster<br/>landing</a>\n",
       " </th>,\n",
       " <th rowspan=\"2\" scope=\"row\" style=\"text-align:center;\">1\n",
       " </th>,\n",
       " <th rowspan=\"2\" scope=\"row\" style=\"text-align:center;\">2\n",
       " </th>,\n",
       " <th rowspan=\"2\" scope=\"row\" style=\"text-align:center;\">3\n",
       " </th>,\n",
       " <th rowspan=\"3\" scope=\"row\" style=\"text-align:center;\">4\n",
       " </th>,\n",
       " <th rowspan=\"2\" scope=\"row\" style=\"text-align:center;\">5\n",
       " </th>,\n",
       " <th rowspan=\"2\" scope=\"row\" style=\"text-align:center;\">6\n",
       " </th>,\n",
       " <th rowspan=\"2\" scope=\"row\" style=\"text-align:center;\">7\n",
       " </th>]"
      ]
     },
     "execution_count": 9,
     "metadata": {},
     "output_type": "execute_result"
    }
   ],
   "source": [
    "th_element = first_launch_table.find_all('th')\n",
    "th_element"
   ]
  },
  {
   "cell_type": "code",
   "execution_count": 10,
   "id": "beae0b15",
   "metadata": {},
   "outputs": [],
   "source": [
    "column_names = []\n",
    "for th in th_element:\n",
    "    name = extract_column_from_header(th)\n",
    "    if name is not None and len(name) > 0:\n",
    "        column_names.append(name)"
   ]
  },
  {
   "cell_type": "code",
   "execution_count": 11,
   "id": "fe0a18a4",
   "metadata": {},
   "outputs": [
    {
     "name": "stdout",
     "output_type": "stream",
     "text": [
      "['Flight No.', 'Date and time ( )', 'Launch site', 'Payload', 'Payload mass', 'Orbit', 'Customer', 'Launch outcome']\n"
     ]
    }
   ],
   "source": [
    "print(column_names)"
   ]
  },
  {
   "cell_type": "code",
   "execution_count": 12,
   "id": "e1e1c763",
   "metadata": {},
   "outputs": [
    {
     "name": "stdout",
     "output_type": "stream",
     "text": [
      "['Flight No.', 'Launch site', 'Payload', 'Payload mass', 'Orbit', 'Customer', 'Launch outcome']\n"
     ]
    }
   ],
   "source": [
    "column_names.pop(1)\n",
    "print(column_names)"
   ]
  },
  {
   "cell_type": "markdown",
   "id": "3dc8155f",
   "metadata": {},
   "source": [
    "Next, We will create an empty dictionary with keys from the extracted column names in the previous task. Later, this dictionary will be converted into a Pandas dataframe."
   ]
  },
  {
   "cell_type": "code",
   "execution_count": 13,
   "id": "c577fc48",
   "metadata": {},
   "outputs": [
    {
     "data": {
      "text/plain": [
       "{'Flight No.': None,\n",
       " 'Launch site': None,\n",
       " 'Payload': None,\n",
       " 'Payload mass': None,\n",
       " 'Orbit': None,\n",
       " 'Customer': None,\n",
       " 'Launch outcome': None}"
      ]
     },
     "execution_count": 13,
     "metadata": {},
     "output_type": "execute_result"
    }
   ],
   "source": [
    "launch_dict= dict.fromkeys(column_names)\n",
    "launch_dict"
   ]
  },
  {
   "cell_type": "code",
   "execution_count": 14,
   "id": "4787ea71",
   "metadata": {},
   "outputs": [],
   "source": [
    "# Let's initial the launch_dict with each value to be an empty list\n",
    "launch_dict['Flight No.'] = []\n",
    "launch_dict['Launch site'] = []\n",
    "launch_dict['Payload'] = []\n",
    "launch_dict['Payload mass'] = []\n",
    "launch_dict['Orbit'] = []\n",
    "launch_dict['Customer'] = []\n",
    "launch_dict['Launch outcome'] = []\n",
    "# Added some new columns\n",
    "launch_dict['Version Booster']=[]\n",
    "launch_dict['Booster landing']=[]\n",
    "launch_dict['Date']=[]\n",
    "launch_dict['Time']=[]"
   ]
  },
  {
   "cell_type": "markdown",
   "id": "6ab3301f",
   "metadata": {},
   "source": [
    "Next, we just need to fill up the launch_dict with launch records extracted from table rows."
   ]
  },
  {
   "cell_type": "code",
   "execution_count": 15,
   "id": "e359983c",
   "metadata": {},
   "outputs": [],
   "source": [
    "extracted_row = 0\n",
    "#Extract each table \n",
    "for table_number,table in enumerate(soup.find_all('table',\"wikitable plainrowheaders collapsible\")):\n",
    "   # get table row \n",
    "    for rows in table.find_all(\"tr\"):\n",
    "        #check to see if first table heading is as number corresponding to launch a number \n",
    "        if rows.th:\n",
    "            if rows.th.string:\n",
    "                flight_number=rows.th.string.strip()\n",
    "                flag=flight_number.isdigit()\n",
    "        else:\n",
    "            flag=False\n",
    "        #get table element \n",
    "        row=rows.find_all('td')\n",
    "        #if it is number save cells in a dictonary \n",
    "        if flag:\n",
    "            extracted_row += 1\n",
    "            # Flight Number value\n",
    "            launch_dict['Flight No.'].append(flight_number) \n",
    "            #print(flight_number)\n",
    "           \n",
    "            # Date value\n",
    "            datatimelist=date_time(row[0])\n",
    "            date = datatimelist[0].strip(',')\n",
    "            launch_dict['Date'].append(date)\n",
    "            #print(date)\n",
    "            \n",
    "            # Time value\n",
    "            time = datatimelist[1]\n",
    "            launch_dict['Time'].append(time)\n",
    "            #print(time)\n",
    "              \n",
    "            # Booster version\n",
    "            bv=booster_version(row[1])\n",
    "            if not(bv):\n",
    "                bv=row[1].a.string\n",
    "            launch_dict['Version Booster'].append(bv)\n",
    "            #print(bv)\n",
    "            \n",
    "            # Launch Site\n",
    "            launch_site = row[2].a.string\n",
    "            launch_dict['Launch site'].append(launch_site)\n",
    "            #print(launch_site)\n",
    "            \n",
    "            # Payload\n",
    "            payload = row[3].a.string\n",
    "            launch_dict['Payload'].append(payload)\n",
    "            #print(payload)\n",
    "            \n",
    "            # Payload Mass\n",
    "            payload_mass = get_mass(row[4])\n",
    "            launch_dict['Payload mass'].append(payload_mass)\n",
    "            #print(payload)\n",
    "            \n",
    "            # Orbit\n",
    "            orbit = row[5].a.string\n",
    "            launch_dict['Orbit'].append(orbit)\n",
    "            #print(orbit)\n",
    "            \n",
    "            # Customer\n",
    "            if row[6].a:\n",
    "                customer = row[6].a.string\n",
    "                launch_dict['Customer'].append(customer)\n",
    "            else:\n",
    "                launch_dict['Customer'].append(None)  # or any other placeholder for missing data\n",
    "            #print(customer)\n",
    "            \n",
    "            # Launch outcome\n",
    "            launch_outcome = list(row[7].strings)[0]\n",
    "            launch_dict['Launch outcome'].append(launch_outcome)\n",
    "            #print(launch_outcome)\n",
    "            \n",
    "            # Booster landing\n",
    "            booster_landing = landing_status(row[8])\n",
    "            launch_dict['Booster landing'].append(booster_landing)\n",
    "            #print(booster_landing)          "
   ]
  },
  {
   "cell_type": "markdown",
   "id": "26e2d712",
   "metadata": {},
   "source": [
    "Now we can use this launch_dict to make a dataframe."
   ]
  },
  {
   "cell_type": "code",
   "execution_count": 16,
   "id": "26c8260e",
   "metadata": {},
   "outputs": [
    {
     "data": {
      "text/html": [
       "<div>\n",
       "<style scoped>\n",
       "    .dataframe tbody tr th:only-of-type {\n",
       "        vertical-align: middle;\n",
       "    }\n",
       "\n",
       "    .dataframe tbody tr th {\n",
       "        vertical-align: top;\n",
       "    }\n",
       "\n",
       "    .dataframe thead th {\n",
       "        text-align: right;\n",
       "    }\n",
       "</style>\n",
       "<table border=\"1\" class=\"dataframe\">\n",
       "  <thead>\n",
       "    <tr style=\"text-align: right;\">\n",
       "      <th></th>\n",
       "      <th>Flight No.</th>\n",
       "      <th>Launch site</th>\n",
       "      <th>Payload</th>\n",
       "      <th>Payload mass</th>\n",
       "      <th>Orbit</th>\n",
       "      <th>Customer</th>\n",
       "      <th>Launch outcome</th>\n",
       "      <th>Version Booster</th>\n",
       "      <th>Booster landing</th>\n",
       "      <th>Date</th>\n",
       "      <th>Time</th>\n",
       "    </tr>\n",
       "  </thead>\n",
       "  <tbody>\n",
       "    <tr>\n",
       "      <th>0</th>\n",
       "      <td>1</td>\n",
       "      <td>CCAFS</td>\n",
       "      <td>Dragon Spacecraft Qualification Unit</td>\n",
       "      <td>0</td>\n",
       "      <td>LEO</td>\n",
       "      <td>SpaceX</td>\n",
       "      <td>Success\\n</td>\n",
       "      <td>F9 v1.0B0003.1</td>\n",
       "      <td>Failure</td>\n",
       "      <td>4 June 2010</td>\n",
       "      <td>18:45</td>\n",
       "    </tr>\n",
       "    <tr>\n",
       "      <th>1</th>\n",
       "      <td>2</td>\n",
       "      <td>CCAFS</td>\n",
       "      <td>Dragon</td>\n",
       "      <td>0</td>\n",
       "      <td>LEO</td>\n",
       "      <td>NASA</td>\n",
       "      <td>Success</td>\n",
       "      <td>F9 v1.0B0004.1</td>\n",
       "      <td>Failure</td>\n",
       "      <td>8 December 2010</td>\n",
       "      <td>15:43</td>\n",
       "    </tr>\n",
       "    <tr>\n",
       "      <th>2</th>\n",
       "      <td>3</td>\n",
       "      <td>CCAFS</td>\n",
       "      <td>Dragon</td>\n",
       "      <td>525 kg</td>\n",
       "      <td>LEO</td>\n",
       "      <td>NASA</td>\n",
       "      <td>Success</td>\n",
       "      <td>F9 v1.0B0005.1</td>\n",
       "      <td>Not attempted\\n</td>\n",
       "      <td>22 May 2012</td>\n",
       "      <td>07:44</td>\n",
       "    </tr>\n",
       "    <tr>\n",
       "      <th>3</th>\n",
       "      <td>4</td>\n",
       "      <td>CCAFS</td>\n",
       "      <td>SpaceX CRS-1</td>\n",
       "      <td>4,700 kg</td>\n",
       "      <td>LEO</td>\n",
       "      <td>NASA</td>\n",
       "      <td>Success\\n</td>\n",
       "      <td>F9 v1.0B0006.1</td>\n",
       "      <td>No attempt</td>\n",
       "      <td>8 October 2012</td>\n",
       "      <td>00:35</td>\n",
       "    </tr>\n",
       "    <tr>\n",
       "      <th>4</th>\n",
       "      <td>5</td>\n",
       "      <td>CCAFS</td>\n",
       "      <td>SpaceX CRS-2</td>\n",
       "      <td>4,877 kg</td>\n",
       "      <td>LEO</td>\n",
       "      <td>NASA</td>\n",
       "      <td>Success\\n</td>\n",
       "      <td>F9 v1.0B0007.1</td>\n",
       "      <td>Not attempted\\n</td>\n",
       "      <td>1 March 2013</td>\n",
       "      <td>15:10</td>\n",
       "    </tr>\n",
       "    <tr>\n",
       "      <th>...</th>\n",
       "      <td>...</td>\n",
       "      <td>...</td>\n",
       "      <td>...</td>\n",
       "      <td>...</td>\n",
       "      <td>...</td>\n",
       "      <td>...</td>\n",
       "      <td>...</td>\n",
       "      <td>...</td>\n",
       "      <td>...</td>\n",
       "      <td>...</td>\n",
       "      <td>...</td>\n",
       "    </tr>\n",
       "    <tr>\n",
       "      <th>116</th>\n",
       "      <td>117</td>\n",
       "      <td>CCSFS</td>\n",
       "      <td>Starlink</td>\n",
       "      <td>15,600 kg</td>\n",
       "      <td>LEO</td>\n",
       "      <td>SpaceX</td>\n",
       "      <td>Success\\n</td>\n",
       "      <td>F9 B5B1051.10</td>\n",
       "      <td>Success</td>\n",
       "      <td>9 May 2021</td>\n",
       "      <td>06:42</td>\n",
       "    </tr>\n",
       "    <tr>\n",
       "      <th>117</th>\n",
       "      <td>118</td>\n",
       "      <td>KSC</td>\n",
       "      <td>Starlink</td>\n",
       "      <td>~14,000 kg</td>\n",
       "      <td>LEO</td>\n",
       "      <td>SpaceX</td>\n",
       "      <td>Success\\n</td>\n",
       "      <td>F9 B5B1058.8</td>\n",
       "      <td>Success</td>\n",
       "      <td>15 May 2021</td>\n",
       "      <td>22:56</td>\n",
       "    </tr>\n",
       "    <tr>\n",
       "      <th>118</th>\n",
       "      <td>119</td>\n",
       "      <td>CCSFS</td>\n",
       "      <td>Starlink</td>\n",
       "      <td>15,600 kg</td>\n",
       "      <td>LEO</td>\n",
       "      <td>SpaceX</td>\n",
       "      <td>Success\\n</td>\n",
       "      <td>F9 B5B1063.2</td>\n",
       "      <td>Success</td>\n",
       "      <td>26 May 2021</td>\n",
       "      <td>18:59</td>\n",
       "    </tr>\n",
       "    <tr>\n",
       "      <th>119</th>\n",
       "      <td>120</td>\n",
       "      <td>KSC</td>\n",
       "      <td>SpaceX CRS-22</td>\n",
       "      <td>3,328 kg</td>\n",
       "      <td>LEO</td>\n",
       "      <td>NASA</td>\n",
       "      <td>Success\\n</td>\n",
       "      <td>F9 B5B1067.1</td>\n",
       "      <td>Success</td>\n",
       "      <td>3 June 2021</td>\n",
       "      <td>17:29</td>\n",
       "    </tr>\n",
       "    <tr>\n",
       "      <th>120</th>\n",
       "      <td>121</td>\n",
       "      <td>CCSFS</td>\n",
       "      <td>SXM-8</td>\n",
       "      <td>7,000 kg</td>\n",
       "      <td>GTO</td>\n",
       "      <td>Sirius XM</td>\n",
       "      <td>Success\\n</td>\n",
       "      <td>F9 B5</td>\n",
       "      <td>Success</td>\n",
       "      <td>6 June 2021</td>\n",
       "      <td>04:26</td>\n",
       "    </tr>\n",
       "  </tbody>\n",
       "</table>\n",
       "<p>121 rows × 11 columns</p>\n",
       "</div>"
      ],
      "text/plain": [
       "    Flight No. Launch site                               Payload Payload mass  \\\n",
       "0            1       CCAFS  Dragon Spacecraft Qualification Unit            0   \n",
       "1            2       CCAFS                                Dragon            0   \n",
       "2            3       CCAFS                                Dragon       525 kg   \n",
       "3            4       CCAFS                          SpaceX CRS-1     4,700 kg   \n",
       "4            5       CCAFS                          SpaceX CRS-2     4,877 kg   \n",
       "..         ...         ...                                   ...          ...   \n",
       "116        117       CCSFS                              Starlink    15,600 kg   \n",
       "117        118         KSC                              Starlink   ~14,000 kg   \n",
       "118        119       CCSFS                              Starlink    15,600 kg   \n",
       "119        120         KSC                         SpaceX CRS-22     3,328 kg   \n",
       "120        121       CCSFS                                 SXM-8     7,000 kg   \n",
       "\n",
       "    Orbit   Customer Launch outcome Version Booster  Booster landing  \\\n",
       "0     LEO     SpaceX      Success\\n  F9 v1.0B0003.1          Failure   \n",
       "1     LEO       NASA        Success  F9 v1.0B0004.1          Failure   \n",
       "2     LEO       NASA        Success  F9 v1.0B0005.1  Not attempted\\n   \n",
       "3     LEO       NASA      Success\\n  F9 v1.0B0006.1       No attempt   \n",
       "4     LEO       NASA      Success\\n  F9 v1.0B0007.1  Not attempted\\n   \n",
       "..    ...        ...            ...             ...              ...   \n",
       "116   LEO     SpaceX      Success\\n   F9 B5B1051.10          Success   \n",
       "117   LEO     SpaceX      Success\\n    F9 B5B1058.8          Success   \n",
       "118   LEO     SpaceX      Success\\n    F9 B5B1063.2          Success   \n",
       "119   LEO       NASA      Success\\n    F9 B5B1067.1          Success   \n",
       "120   GTO  Sirius XM      Success\\n           F9 B5          Success   \n",
       "\n",
       "                Date   Time  \n",
       "0        4 June 2010  18:45  \n",
       "1    8 December 2010  15:43  \n",
       "2        22 May 2012  07:44  \n",
       "3     8 October 2012  00:35  \n",
       "4       1 March 2013  15:10  \n",
       "..               ...    ...  \n",
       "116       9 May 2021  06:42  \n",
       "117      15 May 2021  22:56  \n",
       "118      26 May 2021  18:59  \n",
       "119      3 June 2021  17:29  \n",
       "120      6 June 2021  04:26  \n",
       "\n",
       "[121 rows x 11 columns]"
      ]
     },
     "execution_count": 16,
     "metadata": {},
     "output_type": "execute_result"
    }
   ],
   "source": [
    "df= pd.DataFrame({ key:pd.Series(value) for key, value in launch_dict.items() })\n",
    "df"
   ]
  },
  {
   "cell_type": "code",
   "execution_count": 17,
   "id": "8a1c99da",
   "metadata": {},
   "outputs": [
    {
     "data": {
      "text/plain": [
       "Index(['Flight No.', 'Launch site', 'Payload', 'Payload mass', 'Orbit',\n",
       "       'Customer', 'Launch outcome', 'Version Booster', 'Booster landing',\n",
       "       'Date', 'Time'],\n",
       "      dtype='object')"
      ]
     },
     "execution_count": 17,
     "metadata": {},
     "output_type": "execute_result"
    }
   ],
   "source": [
    "df.columns"
   ]
  },
  {
   "cell_type": "code",
   "execution_count": 18,
   "id": "87c6e723",
   "metadata": {},
   "outputs": [],
   "source": [
    "column_rename = {\n",
    "    'Flight No.': 'Flight No.',\n",
    "    'Launch site': 'Launch_Site',\n",
    "    'Payload': 'Payload',\n",
    "    'Payload mass': 'PAYLOAD_MASS__KG_',\n",
    "    'Orbit': 'Orbit',\n",
    "    'Customer': 'Customer',\n",
    "    'Launch outcome': 'Mission_Outcome',\n",
    "    'Version Booster': 'Booster_Version',\n",
    "    'Booster landing': 'Landing_Outcome',\n",
    "    'Date': 'Date',\n",
    "    'Time': 'Time (UTC)'\n",
    "}"
   ]
  },
  {
   "cell_type": "code",
   "execution_count": 19,
   "id": "1e7d63fc",
   "metadata": {},
   "outputs": [
    {
     "data": {
      "text/html": [
       "<div>\n",
       "<style scoped>\n",
       "    .dataframe tbody tr th:only-of-type {\n",
       "        vertical-align: middle;\n",
       "    }\n",
       "\n",
       "    .dataframe tbody tr th {\n",
       "        vertical-align: top;\n",
       "    }\n",
       "\n",
       "    .dataframe thead th {\n",
       "        text-align: right;\n",
       "    }\n",
       "</style>\n",
       "<table border=\"1\" class=\"dataframe\">\n",
       "  <thead>\n",
       "    <tr style=\"text-align: right;\">\n",
       "      <th></th>\n",
       "      <th>Flight No.</th>\n",
       "      <th>Launch_Site</th>\n",
       "      <th>Payload</th>\n",
       "      <th>PAYLOAD_MASS__KG_</th>\n",
       "      <th>Orbit</th>\n",
       "      <th>Customer</th>\n",
       "      <th>Mission_Outcome</th>\n",
       "      <th>Booster_Version</th>\n",
       "      <th>Landing_Outcome</th>\n",
       "      <th>Date</th>\n",
       "      <th>Time (UTC)</th>\n",
       "    </tr>\n",
       "  </thead>\n",
       "  <tbody>\n",
       "    <tr>\n",
       "      <th>0</th>\n",
       "      <td>1</td>\n",
       "      <td>CCAFS</td>\n",
       "      <td>Dragon Spacecraft Qualification Unit</td>\n",
       "      <td>0</td>\n",
       "      <td>LEO</td>\n",
       "      <td>SpaceX</td>\n",
       "      <td>Success\\n</td>\n",
       "      <td>F9 v1.0B0003.1</td>\n",
       "      <td>Failure</td>\n",
       "      <td>4 June 2010</td>\n",
       "      <td>18:45</td>\n",
       "    </tr>\n",
       "    <tr>\n",
       "      <th>1</th>\n",
       "      <td>2</td>\n",
       "      <td>CCAFS</td>\n",
       "      <td>Dragon</td>\n",
       "      <td>0</td>\n",
       "      <td>LEO</td>\n",
       "      <td>NASA</td>\n",
       "      <td>Success</td>\n",
       "      <td>F9 v1.0B0004.1</td>\n",
       "      <td>Failure</td>\n",
       "      <td>8 December 2010</td>\n",
       "      <td>15:43</td>\n",
       "    </tr>\n",
       "    <tr>\n",
       "      <th>2</th>\n",
       "      <td>3</td>\n",
       "      <td>CCAFS</td>\n",
       "      <td>Dragon</td>\n",
       "      <td>525 kg</td>\n",
       "      <td>LEO</td>\n",
       "      <td>NASA</td>\n",
       "      <td>Success</td>\n",
       "      <td>F9 v1.0B0005.1</td>\n",
       "      <td>Not attempted\\n</td>\n",
       "      <td>22 May 2012</td>\n",
       "      <td>07:44</td>\n",
       "    </tr>\n",
       "    <tr>\n",
       "      <th>3</th>\n",
       "      <td>4</td>\n",
       "      <td>CCAFS</td>\n",
       "      <td>SpaceX CRS-1</td>\n",
       "      <td>4,700 kg</td>\n",
       "      <td>LEO</td>\n",
       "      <td>NASA</td>\n",
       "      <td>Success\\n</td>\n",
       "      <td>F9 v1.0B0006.1</td>\n",
       "      <td>No attempt</td>\n",
       "      <td>8 October 2012</td>\n",
       "      <td>00:35</td>\n",
       "    </tr>\n",
       "    <tr>\n",
       "      <th>4</th>\n",
       "      <td>5</td>\n",
       "      <td>CCAFS</td>\n",
       "      <td>SpaceX CRS-2</td>\n",
       "      <td>4,877 kg</td>\n",
       "      <td>LEO</td>\n",
       "      <td>NASA</td>\n",
       "      <td>Success\\n</td>\n",
       "      <td>F9 v1.0B0007.1</td>\n",
       "      <td>Not attempted\\n</td>\n",
       "      <td>1 March 2013</td>\n",
       "      <td>15:10</td>\n",
       "    </tr>\n",
       "  </tbody>\n",
       "</table>\n",
       "</div>"
      ],
      "text/plain": [
       "  Flight No. Launch_Site                               Payload  \\\n",
       "0          1       CCAFS  Dragon Spacecraft Qualification Unit   \n",
       "1          2       CCAFS                                Dragon   \n",
       "2          3       CCAFS                                Dragon   \n",
       "3          4       CCAFS                          SpaceX CRS-1   \n",
       "4          5       CCAFS                          SpaceX CRS-2   \n",
       "\n",
       "  PAYLOAD_MASS__KG_ Orbit Customer Mission_Outcome Booster_Version  \\\n",
       "0                 0   LEO   SpaceX       Success\\n  F9 v1.0B0003.1   \n",
       "1                 0   LEO     NASA         Success  F9 v1.0B0004.1   \n",
       "2            525 kg   LEO     NASA         Success  F9 v1.0B0005.1   \n",
       "3          4,700 kg   LEO     NASA       Success\\n  F9 v1.0B0006.1   \n",
       "4          4,877 kg   LEO     NASA       Success\\n  F9 v1.0B0007.1   \n",
       "\n",
       "   Landing_Outcome             Date Time (UTC)  \n",
       "0          Failure      4 June 2010      18:45  \n",
       "1          Failure  8 December 2010      15:43  \n",
       "2  Not attempted\\n      22 May 2012      07:44  \n",
       "3       No attempt   8 October 2012      00:35  \n",
       "4  Not attempted\\n     1 March 2013      15:10  "
      ]
     },
     "execution_count": 19,
     "metadata": {},
     "output_type": "execute_result"
    }
   ],
   "source": [
    "df = df.rename(columns=column_rename)\n",
    "df.head()"
   ]
  },
  {
   "cell_type": "code",
   "execution_count": 20,
   "id": "002fd6cd",
   "metadata": {},
   "outputs": [
    {
     "data": {
      "text/html": [
       "<div>\n",
       "<style scoped>\n",
       "    .dataframe tbody tr th:only-of-type {\n",
       "        vertical-align: middle;\n",
       "    }\n",
       "\n",
       "    .dataframe tbody tr th {\n",
       "        vertical-align: top;\n",
       "    }\n",
       "\n",
       "    .dataframe thead th {\n",
       "        text-align: right;\n",
       "    }\n",
       "</style>\n",
       "<table border=\"1\" class=\"dataframe\">\n",
       "  <thead>\n",
       "    <tr style=\"text-align: right;\">\n",
       "      <th></th>\n",
       "      <th>Date</th>\n",
       "      <th>Time (UTC)</th>\n",
       "      <th>Booster_Version</th>\n",
       "      <th>Launch_Site</th>\n",
       "      <th>Payload</th>\n",
       "      <th>PAYLOAD_MASS__KG_</th>\n",
       "      <th>Orbit</th>\n",
       "      <th>Customer</th>\n",
       "      <th>Mission_Outcome</th>\n",
       "      <th>Landing_Outcome</th>\n",
       "    </tr>\n",
       "  </thead>\n",
       "  <tbody>\n",
       "    <tr>\n",
       "      <th>0</th>\n",
       "      <td>4 June 2010</td>\n",
       "      <td>18:45</td>\n",
       "      <td>F9 v1.0B0003.1</td>\n",
       "      <td>CCAFS</td>\n",
       "      <td>Dragon Spacecraft Qualification Unit</td>\n",
       "      <td>0</td>\n",
       "      <td>LEO</td>\n",
       "      <td>SpaceX</td>\n",
       "      <td>Success\\n</td>\n",
       "      <td>Failure</td>\n",
       "    </tr>\n",
       "    <tr>\n",
       "      <th>1</th>\n",
       "      <td>8 December 2010</td>\n",
       "      <td>15:43</td>\n",
       "      <td>F9 v1.0B0004.1</td>\n",
       "      <td>CCAFS</td>\n",
       "      <td>Dragon</td>\n",
       "      <td>0</td>\n",
       "      <td>LEO</td>\n",
       "      <td>NASA</td>\n",
       "      <td>Success</td>\n",
       "      <td>Failure</td>\n",
       "    </tr>\n",
       "    <tr>\n",
       "      <th>2</th>\n",
       "      <td>22 May 2012</td>\n",
       "      <td>07:44</td>\n",
       "      <td>F9 v1.0B0005.1</td>\n",
       "      <td>CCAFS</td>\n",
       "      <td>Dragon</td>\n",
       "      <td>525 kg</td>\n",
       "      <td>LEO</td>\n",
       "      <td>NASA</td>\n",
       "      <td>Success</td>\n",
       "      <td>Not attempted\\n</td>\n",
       "    </tr>\n",
       "    <tr>\n",
       "      <th>3</th>\n",
       "      <td>8 October 2012</td>\n",
       "      <td>00:35</td>\n",
       "      <td>F9 v1.0B0006.1</td>\n",
       "      <td>CCAFS</td>\n",
       "      <td>SpaceX CRS-1</td>\n",
       "      <td>4,700 kg</td>\n",
       "      <td>LEO</td>\n",
       "      <td>NASA</td>\n",
       "      <td>Success\\n</td>\n",
       "      <td>No attempt</td>\n",
       "    </tr>\n",
       "    <tr>\n",
       "      <th>4</th>\n",
       "      <td>1 March 2013</td>\n",
       "      <td>15:10</td>\n",
       "      <td>F9 v1.0B0007.1</td>\n",
       "      <td>CCAFS</td>\n",
       "      <td>SpaceX CRS-2</td>\n",
       "      <td>4,877 kg</td>\n",
       "      <td>LEO</td>\n",
       "      <td>NASA</td>\n",
       "      <td>Success\\n</td>\n",
       "      <td>Not attempted\\n</td>\n",
       "    </tr>\n",
       "  </tbody>\n",
       "</table>\n",
       "</div>"
      ],
      "text/plain": [
       "              Date Time (UTC) Booster_Version Launch_Site  \\\n",
       "0      4 June 2010      18:45  F9 v1.0B0003.1       CCAFS   \n",
       "1  8 December 2010      15:43  F9 v1.0B0004.1       CCAFS   \n",
       "2      22 May 2012      07:44  F9 v1.0B0005.1       CCAFS   \n",
       "3   8 October 2012      00:35  F9 v1.0B0006.1       CCAFS   \n",
       "4     1 March 2013      15:10  F9 v1.0B0007.1       CCAFS   \n",
       "\n",
       "                                Payload PAYLOAD_MASS__KG_ Orbit Customer  \\\n",
       "0  Dragon Spacecraft Qualification Unit                 0   LEO   SpaceX   \n",
       "1                                Dragon                 0   LEO     NASA   \n",
       "2                                Dragon            525 kg   LEO     NASA   \n",
       "3                          SpaceX CRS-1          4,700 kg   LEO     NASA   \n",
       "4                          SpaceX CRS-2          4,877 kg   LEO     NASA   \n",
       "\n",
       "  Mission_Outcome  Landing_Outcome  \n",
       "0       Success\\n          Failure  \n",
       "1         Success          Failure  \n",
       "2         Success  Not attempted\\n  \n",
       "3       Success\\n       No attempt  \n",
       "4       Success\\n  Not attempted\\n  "
      ]
     },
     "execution_count": 20,
     "metadata": {},
     "output_type": "execute_result"
    }
   ],
   "source": [
    "new_sequence = ['Date', 'Time (UTC)', 'Booster_Version', 'Launch_Site', 'Payload',\n",
    "                'PAYLOAD_MASS__KG_', 'Orbit', 'Customer', 'Mission_Outcome', 'Landing_Outcome']\n",
    "df = df[new_sequence]\n",
    "df.head()"
   ]
  },
  {
   "cell_type": "markdown",
   "id": "67bd7574",
   "metadata": {},
   "source": [
    "## EDA With SQL"
   ]
  },
  {
   "cell_type": "markdown",
   "id": "64239819",
   "metadata": {},
   "source": [
    "Let us first load the SQL extension and establish a connection with the database"
   ]
  },
  {
   "cell_type": "code",
   "execution_count": 21,
   "id": "655c581c",
   "metadata": {},
   "outputs": [],
   "source": [
    "%load_ext sql"
   ]
  },
  {
   "cell_type": "code",
   "execution_count": 22,
   "id": "f136cdd7",
   "metadata": {},
   "outputs": [],
   "source": [
    "con = sqlite3.connect(\"my_data1.db\")\n",
    "cur = con.cursor()"
   ]
  },
  {
   "cell_type": "code",
   "execution_count": 23,
   "id": "fe5db947",
   "metadata": {},
   "outputs": [],
   "source": [
    "%sql sqlite:///my_data1.db"
   ]
  },
  {
   "cell_type": "code",
   "execution_count": 24,
   "id": "d1db26bc",
   "metadata": {},
   "outputs": [
    {
     "data": {
      "text/plain": [
       "121"
      ]
     },
     "execution_count": 24,
     "metadata": {},
     "output_type": "execute_result"
    }
   ],
   "source": [
    "df.to_sql(\"SPACEXTBL\", con, if_exists='replace', index=False,method=\"multi\")"
   ]
  },
  {
   "cell_type": "markdown",
   "id": "6927fa30",
   "metadata": {},
   "source": [
    "The below code will remove the blank row from the table."
   ]
  },
  {
   "cell_type": "code",
   "execution_count": 25,
   "id": "8a2c6173",
   "metadata": {},
   "outputs": [
    {
     "name": "stdout",
     "output_type": "stream",
     "text": [
      " * sqlite:///my_data1.db\n",
      "(sqlite3.OperationalError) table SPACEXTABLE already exists\n",
      "[SQL: create table SPACEXTABLE as select * from SPACEXTBL where Date is not null;]\n",
      "(Background on this error at: https://sqlalche.me/e/20/e3q8)\n"
     ]
    }
   ],
   "source": [
    "%%sql\n",
    "create table SPACEXTABLE as select * from SPACEXTBL where Date is not null;"
   ]
  },
  {
   "cell_type": "code",
   "execution_count": 26,
   "id": "9545c2a8",
   "metadata": {},
   "outputs": [
    {
     "name": "stdout",
     "output_type": "stream",
     "text": [
      " * sqlite:///my_data1.db\n",
      "Done.\n"
     ]
    },
    {
     "data": {
      "text/html": [
       "<table>\n",
       "    <thead>\n",
       "        <tr>\n",
       "            <th>Date</th>\n",
       "            <th>Time (UTC)</th>\n",
       "            <th>Booster_Version</th>\n",
       "            <th>Launch_Site</th>\n",
       "            <th>Payload</th>\n",
       "            <th>PAYLOAD_MASS__KG_</th>\n",
       "            <th>Orbit</th>\n",
       "            <th>Customer</th>\n",
       "            <th>Mission_Outcome</th>\n",
       "            <th>Landing_Outcome</th>\n",
       "        </tr>\n",
       "    </thead>\n",
       "    <tbody>\n",
       "        <tr>\n",
       "            <td>4 June 2010</td>\n",
       "            <td>18:45</td>\n",
       "            <td>F9 v1.0B0003.1</td>\n",
       "            <td>CCAFS</td>\n",
       "            <td>Dragon Spacecraft Qualification Unit</td>\n",
       "            <td>0</td>\n",
       "            <td>LEO</td>\n",
       "            <td>SpaceX</td>\n",
       "            <td>Success<br></td>\n",
       "            <td>Failure</td>\n",
       "        </tr>\n",
       "        <tr>\n",
       "            <td>8 December 2010</td>\n",
       "            <td>15:43</td>\n",
       "            <td>F9 v1.0B0004.1</td>\n",
       "            <td>CCAFS</td>\n",
       "            <td>Dragon</td>\n",
       "            <td>0</td>\n",
       "            <td>LEO</td>\n",
       "            <td>NASA</td>\n",
       "            <td>Success</td>\n",
       "            <td>Failure</td>\n",
       "        </tr>\n",
       "        <tr>\n",
       "            <td>22 May 2012</td>\n",
       "            <td>07:44</td>\n",
       "            <td>F9 v1.0B0005.1</td>\n",
       "            <td>CCAFS</td>\n",
       "            <td>Dragon</td>\n",
       "            <td>525 kg</td>\n",
       "            <td>LEO</td>\n",
       "            <td>NASA</td>\n",
       "            <td>Success</td>\n",
       "            <td>Not attempted<br></td>\n",
       "        </tr>\n",
       "        <tr>\n",
       "            <td>8 October 2012</td>\n",
       "            <td>00:35</td>\n",
       "            <td>F9 v1.0B0006.1</td>\n",
       "            <td>CCAFS</td>\n",
       "            <td>SpaceX CRS-1</td>\n",
       "            <td>4,700 kg</td>\n",
       "            <td>LEO</td>\n",
       "            <td>NASA</td>\n",
       "            <td>Success<br></td>\n",
       "            <td>No attempt</td>\n",
       "        </tr>\n",
       "        <tr>\n",
       "            <td>1 March 2013</td>\n",
       "            <td>15:10</td>\n",
       "            <td>F9 v1.0B0007.1</td>\n",
       "            <td>CCAFS</td>\n",
       "            <td>SpaceX CRS-2</td>\n",
       "            <td>4,877 kg</td>\n",
       "            <td>LEO</td>\n",
       "            <td>NASA</td>\n",
       "            <td>Success<br></td>\n",
       "            <td>Not attempted<br></td>\n",
       "        </tr>\n",
       "    </tbody>\n",
       "</table>"
      ],
      "text/plain": [
       "[('4 June 2010', '18:45', 'F9 v1.0B0003.1', 'CCAFS', 'Dragon Spacecraft Qualification Unit', '0', 'LEO', 'SpaceX', 'Success\\n', 'Failure'),\n",
       " ('8 December 2010', '15:43', 'F9 v1.0B0004.1', 'CCAFS', 'Dragon', '0', 'LEO', 'NASA', 'Success', 'Failure'),\n",
       " ('22 May 2012', '07:44', 'F9 v1.0B0005.1', 'CCAFS', 'Dragon', '525 kg', 'LEO', 'NASA', 'Success', 'Not attempted\\n'),\n",
       " ('8 October 2012', '00:35', 'F9 v1.0B0006.1', 'CCAFS', 'SpaceX CRS-1', '4,700 kg', 'LEO', 'NASA', 'Success\\n', 'No attempt'),\n",
       " ('1 March 2013', '15:10', 'F9 v1.0B0007.1', 'CCAFS', 'SpaceX CRS-2', '4,877 kg', 'LEO', 'NASA', 'Success\\n', 'Not attempted\\n')]"
      ]
     },
     "execution_count": 26,
     "metadata": {},
     "output_type": "execute_result"
    }
   ],
   "source": [
    "%sql SELECT * FROM SPACEXTBL LIMIT 5;"
   ]
  },
  {
   "cell_type": "markdown",
   "id": "3872dd74",
   "metadata": {},
   "source": [
    "Display the names of the unique launch sites  in the space mission"
   ]
  },
  {
   "cell_type": "code",
   "execution_count": 27,
   "id": "0c8a0c0f",
   "metadata": {},
   "outputs": [
    {
     "name": "stdout",
     "output_type": "stream",
     "text": [
      " * sqlite:///my_data1.db\n",
      "Done.\n"
     ]
    },
    {
     "data": {
      "text/html": [
       "<table>\n",
       "    <thead>\n",
       "        <tr>\n",
       "            <th>Launch_Site</th>\n",
       "        </tr>\n",
       "    </thead>\n",
       "    <tbody>\n",
       "        <tr>\n",
       "            <td>CCAFS</td>\n",
       "        </tr>\n",
       "        <tr>\n",
       "            <td>VAFB</td>\n",
       "        </tr>\n",
       "        <tr>\n",
       "            <td>Cape Canaveral</td>\n",
       "        </tr>\n",
       "        <tr>\n",
       "            <td>KSC</td>\n",
       "        </tr>\n",
       "        <tr>\n",
       "            <td>CCSFS</td>\n",
       "        </tr>\n",
       "    </tbody>\n",
       "</table>"
      ],
      "text/plain": [
       "[('CCAFS',), ('VAFB',), ('Cape Canaveral',), ('KSC',), ('CCSFS',)]"
      ]
     },
     "execution_count": 27,
     "metadata": {},
     "output_type": "execute_result"
    }
   ],
   "source": [
    "%%sql \n",
    "SELECT DISTINCT(\"Launch_Site\") from SPACEXTBL"
   ]
  },
  {
   "cell_type": "markdown",
   "id": "c3985053",
   "metadata": {},
   "source": [
    "Display 5 records where launch sites begin with the string 'CCA' "
   ]
  },
  {
   "cell_type": "code",
   "execution_count": 28,
   "id": "6e5ecf97",
   "metadata": {},
   "outputs": [
    {
     "name": "stdout",
     "output_type": "stream",
     "text": [
      " * sqlite:///my_data1.db\n",
      "Done.\n"
     ]
    },
    {
     "data": {
      "text/html": [
       "<table>\n",
       "    <thead>\n",
       "        <tr>\n",
       "            <th>Date</th>\n",
       "            <th>Time (UTC)</th>\n",
       "            <th>Booster_Version</th>\n",
       "            <th>Launch_Site</th>\n",
       "            <th>Payload</th>\n",
       "            <th>PAYLOAD_MASS__KG_</th>\n",
       "            <th>Orbit</th>\n",
       "            <th>Customer</th>\n",
       "            <th>Mission_Outcome</th>\n",
       "            <th>Landing_Outcome</th>\n",
       "        </tr>\n",
       "    </thead>\n",
       "    <tbody>\n",
       "        <tr>\n",
       "            <td>4 June 2010</td>\n",
       "            <td>18:45</td>\n",
       "            <td>F9 v1.0B0003.1</td>\n",
       "            <td>CCAFS</td>\n",
       "            <td>Dragon Spacecraft Qualification Unit</td>\n",
       "            <td>0</td>\n",
       "            <td>LEO</td>\n",
       "            <td>SpaceX</td>\n",
       "            <td>Success<br></td>\n",
       "            <td>Failure</td>\n",
       "        </tr>\n",
       "        <tr>\n",
       "            <td>8 December 2010</td>\n",
       "            <td>15:43</td>\n",
       "            <td>F9 v1.0B0004.1</td>\n",
       "            <td>CCAFS</td>\n",
       "            <td>Dragon</td>\n",
       "            <td>0</td>\n",
       "            <td>LEO</td>\n",
       "            <td>NASA</td>\n",
       "            <td>Success</td>\n",
       "            <td>Failure</td>\n",
       "        </tr>\n",
       "        <tr>\n",
       "            <td>22 May 2012</td>\n",
       "            <td>07:44</td>\n",
       "            <td>F9 v1.0B0005.1</td>\n",
       "            <td>CCAFS</td>\n",
       "            <td>Dragon</td>\n",
       "            <td>525 kg</td>\n",
       "            <td>LEO</td>\n",
       "            <td>NASA</td>\n",
       "            <td>Success</td>\n",
       "            <td>Not attempted<br></td>\n",
       "        </tr>\n",
       "        <tr>\n",
       "            <td>8 October 2012</td>\n",
       "            <td>00:35</td>\n",
       "            <td>F9 v1.0B0006.1</td>\n",
       "            <td>CCAFS</td>\n",
       "            <td>SpaceX CRS-1</td>\n",
       "            <td>4,700 kg</td>\n",
       "            <td>LEO</td>\n",
       "            <td>NASA</td>\n",
       "            <td>Success<br></td>\n",
       "            <td>No attempt</td>\n",
       "        </tr>\n",
       "        <tr>\n",
       "            <td>1 March 2013</td>\n",
       "            <td>15:10</td>\n",
       "            <td>F9 v1.0B0007.1</td>\n",
       "            <td>CCAFS</td>\n",
       "            <td>SpaceX CRS-2</td>\n",
       "            <td>4,877 kg</td>\n",
       "            <td>LEO</td>\n",
       "            <td>NASA</td>\n",
       "            <td>Success<br></td>\n",
       "            <td>Not attempted<br></td>\n",
       "        </tr>\n",
       "        <tr>\n",
       "            <td>3 December 2013</td>\n",
       "            <td>22:41</td>\n",
       "            <td>F9 v1.1</td>\n",
       "            <td>CCAFS</td>\n",
       "            <td>SES-8</td>\n",
       "            <td>3,170 kg</td>\n",
       "            <td>GTO</td>\n",
       "            <td>SES</td>\n",
       "            <td>Success</td>\n",
       "            <td>Not attempted</td>\n",
       "        </tr>\n",
       "        <tr>\n",
       "            <td>6 January 2014</td>\n",
       "            <td>22:06</td>\n",
       "            <td>F9 v1.1</td>\n",
       "            <td>CCAFS</td>\n",
       "            <td>Thaicom 6</td>\n",
       "            <td>3,325 kg</td>\n",
       "            <td>GTO</td>\n",
       "            <td>Thaicom</td>\n",
       "            <td>Success</td>\n",
       "            <td>Not attempted</td>\n",
       "        </tr>\n",
       "        <tr>\n",
       "            <td>8 January 2018</td>\n",
       "            <td>01:00</td>\n",
       "            <td>F9 B4</td>\n",
       "            <td>CCAFS</td>\n",
       "            <td>Zuma</td>\n",
       "            <td>C</td>\n",
       "            <td>LEO</td>\n",
       "            <td>Northrop Grumman</td>\n",
       "            <td>Success</td>\n",
       "            <td>Success</td>\n",
       "        </tr>\n",
       "        <tr>\n",
       "            <td>31 January 2018</td>\n",
       "            <td>21:25</td>\n",
       "            <td>F9 FTB1032.2</td>\n",
       "            <td>CCAFS</td>\n",
       "            <td>GovSat-1</td>\n",
       "            <td>4,230 kg</td>\n",
       "            <td>GTO</td>\n",
       "            <td>SES</td>\n",
       "            <td>Success</td>\n",
       "            <td>Controlled</td>\n",
       "        </tr>\n",
       "        <tr>\n",
       "            <td>6 March 2018</td>\n",
       "            <td>05:33</td>\n",
       "            <td>F9 B4</td>\n",
       "            <td>CCAFS</td>\n",
       "            <td>Hispasat 30W-6</td>\n",
       "            <td>6,092 kg</td>\n",
       "            <td>GTO</td>\n",
       "            <td>Hispasat</td>\n",
       "            <td>Success</td>\n",
       "            <td>No attempt</td>\n",
       "        </tr>\n",
       "    </tbody>\n",
       "</table>"
      ],
      "text/plain": [
       "[('4 June 2010', '18:45', 'F9 v1.0B0003.1', 'CCAFS', 'Dragon Spacecraft Qualification Unit', '0', 'LEO', 'SpaceX', 'Success\\n', 'Failure'),\n",
       " ('8 December 2010', '15:43', 'F9 v1.0B0004.1', 'CCAFS', 'Dragon', '0', 'LEO', 'NASA', 'Success', 'Failure'),\n",
       " ('22 May 2012', '07:44', 'F9 v1.0B0005.1', 'CCAFS', 'Dragon', '525 kg', 'LEO', 'NASA', 'Success', 'Not attempted\\n'),\n",
       " ('8 October 2012', '00:35', 'F9 v1.0B0006.1', 'CCAFS', 'SpaceX CRS-1', '4,700 kg', 'LEO', 'NASA', 'Success\\n', 'No attempt'),\n",
       " ('1 March 2013', '15:10', 'F9 v1.0B0007.1', 'CCAFS', 'SpaceX CRS-2', '4,877 kg', 'LEO', 'NASA', 'Success\\n', 'Not attempted\\n'),\n",
       " ('3 December 2013', '22:41', 'F9 v1.1', 'CCAFS', 'SES-8', '3,170 kg', 'GTO', 'SES', 'Success', 'Not attempted'),\n",
       " ('6 January 2014', '22:06', 'F9 v1.1', 'CCAFS', 'Thaicom 6', '3,325 kg', 'GTO', 'Thaicom', 'Success', 'Not attempted'),\n",
       " ('8 January 2018', '01:00', 'F9 B4', 'CCAFS', 'Zuma', 'C', 'LEO', 'Northrop Grumman', 'Success', 'Success'),\n",
       " ('31 January 2018', '21:25', 'F9 FTB1032.2', 'CCAFS', 'GovSat-1', '4,230 kg', 'GTO', 'SES', 'Success', 'Controlled'),\n",
       " ('6 March 2018', '05:33', 'F9 B4', 'CCAFS', 'Hispasat 30W-6', '6,092 kg', 'GTO', 'Hispasat', 'Success', 'No attempt')]"
      ]
     },
     "execution_count": 28,
     "metadata": {},
     "output_type": "execute_result"
    }
   ],
   "source": [
    "%%sql \n",
    "SELECT * FROM SPACEXTBL WHERE \"Launch_Site\" LIKE 'CCA%' LIMIT 10;"
   ]
  },
  {
   "cell_type": "markdown",
   "id": "cd36e61e",
   "metadata": {},
   "source": [
    "Display the total payload mass carried by boosters launched by NASA."
   ]
  },
  {
   "cell_type": "code",
   "execution_count": 29,
   "id": "6d437492",
   "metadata": {},
   "outputs": [
    {
     "name": "stdout",
     "output_type": "stream",
     "text": [
      " * sqlite:///my_data1.db\n",
      "Done.\n"
     ]
    },
    {
     "data": {
      "text/html": [
       "<table>\n",
       "    <thead>\n",
       "        <tr>\n",
       "            <th>Orbit</th>\n",
       "        </tr>\n",
       "    </thead>\n",
       "    <tbody>\n",
       "        <tr>\n",
       "            <td>LEO</td>\n",
       "        </tr>\n",
       "        <tr>\n",
       "            <td>Polar orbit</td>\n",
       "        </tr>\n",
       "        <tr>\n",
       "            <td>GTO</td>\n",
       "        </tr>\n",
       "        <tr>\n",
       "            <td>HEO</td>\n",
       "        </tr>\n",
       "        <tr>\n",
       "            <td>Polar</td>\n",
       "        </tr>\n",
       "        <tr>\n",
       "            <td>SSO</td>\n",
       "        </tr>\n",
       "        <tr>\n",
       "            <td>MEO</td>\n",
       "        </tr>\n",
       "        <tr>\n",
       "            <td>Sub-orbital</td>\n",
       "        </tr>\n",
       "    </tbody>\n",
       "</table>"
      ],
      "text/plain": [
       "[('LEO',),\n",
       " ('Polar orbit',),\n",
       " ('GTO',),\n",
       " ('HEO',),\n",
       " ('Polar',),\n",
       " ('SSO',),\n",
       " ('MEO',),\n",
       " ('Sub-orbital',)]"
      ]
     },
     "execution_count": 29,
     "metadata": {},
     "output_type": "execute_result"
    }
   ],
   "source": [
    "%%sql\n",
    "SELECT DISTINCT(\"Orbit\") FROM SPACEXTBL;"
   ]
  },
  {
   "cell_type": "code",
   "execution_count": 30,
   "id": "b5658132",
   "metadata": {},
   "outputs": [
    {
     "name": "stdout",
     "output_type": "stream",
     "text": [
      " * sqlite:///my_data1.db\n",
      "Done.\n"
     ]
    },
    {
     "data": {
      "text/html": [
       "<table>\n",
       "    <thead>\n",
       "        <tr>\n",
       "            <th>Payload</th>\n",
       "        </tr>\n",
       "    </thead>\n",
       "    <tbody>\n",
       "        <tr>\n",
       "            <td>Dragon Spacecraft Qualification Unit</td>\n",
       "        </tr>\n",
       "        <tr>\n",
       "            <td>Dragon</td>\n",
       "        </tr>\n",
       "        <tr>\n",
       "            <td>SpaceX CRS-1</td>\n",
       "        </tr>\n",
       "        <tr>\n",
       "            <td>SpaceX CRS-2</td>\n",
       "        </tr>\n",
       "        <tr>\n",
       "            <td>CASSIOPE</td>\n",
       "        </tr>\n",
       "        <tr>\n",
       "            <td>SES-8</td>\n",
       "        </tr>\n",
       "        <tr>\n",
       "            <td>Thaicom 6</td>\n",
       "        </tr>\n",
       "        <tr>\n",
       "            <td>SpaceX CRS-3</td>\n",
       "        </tr>\n",
       "        <tr>\n",
       "            <td>Orbcomm-OG2</td>\n",
       "        </tr>\n",
       "        <tr>\n",
       "            <td>AsiaSat 8</td>\n",
       "        </tr>\n",
       "    </tbody>\n",
       "</table>"
      ],
      "text/plain": [
       "[('Dragon Spacecraft Qualification Unit',),\n",
       " ('Dragon',),\n",
       " ('SpaceX CRS-1',),\n",
       " ('SpaceX CRS-2',),\n",
       " ('CASSIOPE',),\n",
       " ('SES-8',),\n",
       " ('Thaicom 6',),\n",
       " ('SpaceX CRS-3',),\n",
       " ('Orbcomm-OG2',),\n",
       " ('AsiaSat 8',)]"
      ]
     },
     "execution_count": 30,
     "metadata": {},
     "output_type": "execute_result"
    }
   ],
   "source": [
    "%%sql\n",
    "SELECT DISTINCT(\"Payload\") FROM SPACEXTBL LIMIT 10;"
   ]
  },
  {
   "cell_type": "code",
   "execution_count": 31,
   "id": "853be877",
   "metadata": {},
   "outputs": [
    {
     "name": "stdout",
     "output_type": "stream",
     "text": [
      " * sqlite:///my_data1.db\n",
      "Done.\n"
     ]
    },
    {
     "data": {
      "text/html": [
       "<table>\n",
       "    <thead>\n",
       "        <tr>\n",
       "            <th>Customer</th>\n",
       "        </tr>\n",
       "    </thead>\n",
       "    <tbody>\n",
       "        <tr>\n",
       "            <td>SpaceX</td>\n",
       "        </tr>\n",
       "        <tr>\n",
       "            <td>NASA</td>\n",
       "        </tr>\n",
       "        <tr>\n",
       "            <td>MDA</td>\n",
       "        </tr>\n",
       "        <tr>\n",
       "            <td>SES</td>\n",
       "        </tr>\n",
       "        <tr>\n",
       "            <td>Thaicom</td>\n",
       "        </tr>\n",
       "        <tr>\n",
       "            <td>Orbcomm</td>\n",
       "        </tr>\n",
       "        <tr>\n",
       "            <td>AsiaSat</td>\n",
       "        </tr>\n",
       "        <tr>\n",
       "            <td>USAF</td>\n",
       "        </tr>\n",
       "        <tr>\n",
       "            <td>ABS</td>\n",
       "        </tr>\n",
       "        <tr>\n",
       "            <td>None</td>\n",
       "        </tr>\n",
       "    </tbody>\n",
       "</table>"
      ],
      "text/plain": [
       "[('SpaceX',),\n",
       " ('NASA',),\n",
       " ('MDA',),\n",
       " ('SES',),\n",
       " ('Thaicom',),\n",
       " ('Orbcomm',),\n",
       " ('AsiaSat',),\n",
       " ('USAF',),\n",
       " ('ABS',),\n",
       " (None,)]"
      ]
     },
     "execution_count": 31,
     "metadata": {},
     "output_type": "execute_result"
    }
   ],
   "source": [
    "%%sql\n",
    "SELECT DISTINCT(\"Customer\") FROM SPACEXTBL LIMIT 10;"
   ]
  },
  {
   "cell_type": "code",
   "execution_count": 32,
   "id": "dc8058f2",
   "metadata": {},
   "outputs": [
    {
     "name": "stdout",
     "output_type": "stream",
     "text": [
      " * sqlite:///my_data1.db\n",
      "Done.\n"
     ]
    },
    {
     "data": {
      "text/html": [
       "<table>\n",
       "    <thead>\n",
       "        <tr>\n",
       "            <th>Landing_Outcome</th>\n",
       "        </tr>\n",
       "    </thead>\n",
       "    <tbody>\n",
       "        <tr>\n",
       "            <td>Failure</td>\n",
       "        </tr>\n",
       "        <tr>\n",
       "            <td>Not attempted<br></td>\n",
       "        </tr>\n",
       "        <tr>\n",
       "            <td>No attempt</td>\n",
       "        </tr>\n",
       "        <tr>\n",
       "            <td>Uncontrolled</td>\n",
       "        </tr>\n",
       "        <tr>\n",
       "            <td>Not attempted</td>\n",
       "        </tr>\n",
       "        <tr>\n",
       "            <td>Controlled</td>\n",
       "        </tr>\n",
       "        <tr>\n",
       "            <td>Failure </td>\n",
       "        </tr>\n",
       "        <tr>\n",
       "            <td>Precluded</td>\n",
       "        </tr>\n",
       "        <tr>\n",
       "            <td>Success</td>\n",
       "        </tr>\n",
       "    </tbody>\n",
       "</table>"
      ],
      "text/plain": [
       "[('Failure',),\n",
       " ('Not attempted\\n',),\n",
       " ('No attempt',),\n",
       " ('Uncontrolled',),\n",
       " ('Not attempted',),\n",
       " ('Controlled',),\n",
       " ('Failure ',),\n",
       " ('Precluded',),\n",
       " ('Success',)]"
      ]
     },
     "execution_count": 32,
     "metadata": {},
     "output_type": "execute_result"
    }
   ],
   "source": [
    "%%sql \n",
    "SELECT DISTINCT(\"Landing_Outcome\") from SPACEXTBL"
   ]
  },
  {
   "cell_type": "code",
   "execution_count": 33,
   "id": "0eceab90",
   "metadata": {},
   "outputs": [
    {
     "name": "stdout",
     "output_type": "stream",
     "text": [
      " * sqlite:///my_data1.db\n",
      "Done.\n"
     ]
    },
    {
     "data": {
      "text/html": [
       "<table>\n",
       "    <thead>\n",
       "        <tr>\n",
       "            <th>FirstSuccessfulGroundPadLanding</th>\n",
       "        </tr>\n",
       "    </thead>\n",
       "    <tbody>\n",
       "        <tr>\n",
       "            <td>1 May 2017</td>\n",
       "        </tr>\n",
       "    </tbody>\n",
       "</table>"
      ],
      "text/plain": [
       "[('1 May 2017',)]"
      ]
     },
     "execution_count": 33,
     "metadata": {},
     "output_type": "execute_result"
    }
   ],
   "source": [
    "%%sql \n",
    "SELECT MIN(\"Date\") as FirstSuccessfulGroundPadLanding FROM SPACEXTBL WHERE Landing_Outcome == 'Success'"
   ]
  },
  {
   "cell_type": "code",
   "execution_count": 34,
   "id": "db3b9acb",
   "metadata": {},
   "outputs": [
    {
     "name": "stdout",
     "output_type": "stream",
     "text": [
      " * sqlite:///my_data1.db\n",
      "Done.\n"
     ]
    },
    {
     "data": {
      "text/html": [
       "<table>\n",
       "    <thead>\n",
       "        <tr>\n",
       "            <th>Booster_Version</th>\n",
       "        </tr>\n",
       "    </thead>\n",
       "    <tbody>\n",
       "        <tr>\n",
       "            <td>F9 FT♺</td>\n",
       "        </tr>\n",
       "        <tr>\n",
       "            <td>F9 FT</td>\n",
       "        </tr>\n",
       "        <tr>\n",
       "            <td>F9 FTB1031.2</td>\n",
       "        </tr>\n",
       "        <tr>\n",
       "            <td>F9 B5B1046.2</td>\n",
       "        </tr>\n",
       "        <tr>\n",
       "            <td>F9 B5B1047.2</td>\n",
       "        </tr>\n",
       "        <tr>\n",
       "            <td>F9 B5B1056.3</td>\n",
       "        </tr>\n",
       "        <tr>\n",
       "            <td>F9 B5B1058.2</td>\n",
       "        </tr>\n",
       "    </tbody>\n",
       "</table>"
      ],
      "text/plain": [
       "[('F9 FT♺',),\n",
       " ('F9 FT',),\n",
       " ('F9 FTB1031.2',),\n",
       " ('F9 B5B1046.2',),\n",
       " ('F9 B5B1047.2',),\n",
       " ('F9 B5B1056.3',),\n",
       " ('F9 B5B1058.2',)]"
      ]
     },
     "execution_count": 34,
     "metadata": {},
     "output_type": "execute_result"
    }
   ],
   "source": [
    "%%sql \n",
    "SELECT DISTINCT(\"Booster_Version\") from SPACEXTBL \n",
    "WHERE Landing_Outcome == 'Success' AND (PAYLOAD_MASS__KG_ BETWEEN 4000 AND 6000)"
   ]
  },
  {
   "cell_type": "code",
   "execution_count": 35,
   "id": "f42ff50a",
   "metadata": {},
   "outputs": [
    {
     "name": "stdout",
     "output_type": "stream",
     "text": [
      " * sqlite:///my_data1.db\n",
      "Done.\n"
     ]
    },
    {
     "data": {
      "text/html": [
       "<table>\n",
       "    <thead>\n",
       "        <tr>\n",
       "            <th>Successful</th>\n",
       "            <th>Failure</th>\n",
       "        </tr>\n",
       "    </thead>\n",
       "    <tbody>\n",
       "        <tr>\n",
       "            <td>120</td>\n",
       "            <td>1</td>\n",
       "        </tr>\n",
       "    </tbody>\n",
       "</table>"
      ],
      "text/plain": [
       "[(120, 1)]"
      ]
     },
     "execution_count": 35,
     "metadata": {},
     "output_type": "execute_result"
    }
   ],
   "source": [
    "%%sql \n",
    "SELECT COUNT(CASE WHEN Mission_Outcome LIKE 'Success%' THEN 1 END) AS Successful, \n",
    "COUNT(CASE WHEN Mission_Outcome LIKE 'Failure%' THEN 1 END) AS Failure FROM SPACEXTBL;"
   ]
  },
  {
   "cell_type": "code",
   "execution_count": 36,
   "id": "4f8a2cc3",
   "metadata": {},
   "outputs": [
    {
     "name": "stdout",
     "output_type": "stream",
     "text": [
      " * sqlite:///my_data1.db\n",
      "Done.\n"
     ]
    },
    {
     "data": {
      "text/html": [
       "<table>\n",
       "    <thead>\n",
       "        <tr>\n",
       "            <th>Booster_Version</th>\n",
       "        </tr>\n",
       "    </thead>\n",
       "    <tbody>\n",
       "        <tr>\n",
       "            <td>F9 B5B1058.5</td>\n",
       "        </tr>\n",
       "    </tbody>\n",
       "</table>"
      ],
      "text/plain": [
       "[('F9 B5B1058.5',)]"
      ]
     },
     "execution_count": 36,
     "metadata": {},
     "output_type": "execute_result"
    }
   ],
   "source": [
    "%%sql\n",
    "SELECT Booster_Version\n",
    "FROM SPACEXTBL\n",
    "WHERE PAYLOAD_MASS__KG_ IN (SELECT MAX(PAYLOAD_MASS__KG_) FROM SPACEXTBL);"
   ]
  },
  {
   "cell_type": "code",
   "execution_count": 37,
   "id": "66926e1a",
   "metadata": {},
   "outputs": [
    {
     "name": "stdout",
     "output_type": "stream",
     "text": [
      " * sqlite:///my_data1.db\n",
      "Done.\n"
     ]
    },
    {
     "data": {
      "text/html": [
       "<table>\n",
       "    <thead>\n",
       "        <tr>\n",
       "            <th>Landing_Outcome</th>\n",
       "            <th>count_outcomes</th>\n",
       "        </tr>\n",
       "    </thead>\n",
       "    <tbody>\n",
       "        <tr>\n",
       "            <td>Success</td>\n",
       "            <td>28</td>\n",
       "        </tr>\n",
       "        <tr>\n",
       "            <td>Failure</td>\n",
       "            <td>6</td>\n",
       "        </tr>\n",
       "        <tr>\n",
       "            <td>Not attempted</td>\n",
       "            <td>4</td>\n",
       "        </tr>\n",
       "        <tr>\n",
       "            <td>Controlled</td>\n",
       "            <td>3</td>\n",
       "        </tr>\n",
       "        <tr>\n",
       "            <td>Not attempted<br></td>\n",
       "            <td>2</td>\n",
       "        </tr>\n",
       "        <tr>\n",
       "            <td>Failure </td>\n",
       "            <td>1</td>\n",
       "        </tr>\n",
       "    </tbody>\n",
       "</table>"
      ],
      "text/plain": [
       "[('Success', 28),\n",
       " ('Failure', 6),\n",
       " ('Not attempted', 4),\n",
       " ('Controlled', 3),\n",
       " ('Not attempted\\n', 2),\n",
       " ('Failure ', 1)]"
      ]
     },
     "execution_count": 37,
     "metadata": {},
     "output_type": "execute_result"
    }
   ],
   "source": [
    "%%sql \n",
    "SELECT [Landing_Outcome], count(*) as count_outcomes FROM SPACEXTBL \n",
    "WHERE DATE between '04-06-2010' and '20-03-2017' group by [Landing_Outcome] order by count_outcomes DESC;"
   ]
  },
  {
   "cell_type": "code",
   "execution_count": null,
   "id": "cc0dab46",
   "metadata": {},
   "outputs": [],
   "source": []
  }
 ],
 "metadata": {
  "kernelspec": {
   "display_name": "Python 3 (ipykernel)",
   "language": "python",
   "name": "python3"
  },
  "language_info": {
   "codemirror_mode": {
    "name": "ipython",
    "version": 3
   },
   "file_extension": ".py",
   "mimetype": "text/x-python",
   "name": "python",
   "nbconvert_exporter": "python",
   "pygments_lexer": "ipython3",
   "version": "3.9.13"
  }
 },
 "nbformat": 4,
 "nbformat_minor": 5
}
